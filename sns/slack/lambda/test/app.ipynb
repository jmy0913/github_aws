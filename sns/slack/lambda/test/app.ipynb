{
 "cells": [
  {
   "cell_type": "code",
   "execution_count": 1,
   "metadata": {},
   "outputs": [],
   "source": [
    "import sys\n",
    "from pathlib import Path\n",
    "BASE_DIR = Path('__file__').resolve().parent.parent.parent\n",
    "sys.path.append(str(BASE_DIR)+\"/layer\") # local 테스트용\n",
    "\n",
    "import warnings\n",
    "warnings.filterwarnings(action='ignore')\n",
    "\n",
    "import logging\n",
    "logger = logging.getLogger()\n",
    "logger.setLevel(logging.INFO)"
   ]
  },
  {
   "cell_type": "code",
   "execution_count": 2,
   "metadata": {},
   "outputs": [
    {
     "data": {
      "text/plain": [
       "['/Users/gyoungwon-cho/dev/github/course_aws/sns/slack/lambda/test',\n",
       " '/Users/gyoungwon-cho/.pyenv/versions/3.11.3/lib/python311.zip',\n",
       " '/Users/gyoungwon-cho/.pyenv/versions/3.11.3/lib/python3.11',\n",
       " '/Users/gyoungwon-cho/.pyenv/versions/3.11.3/lib/python3.11/lib-dynload',\n",
       " '',\n",
       " '/Users/gyoungwon-cho/.pyenv/versions/3.11.3/envs/web-venv/lib/python3.11/site-packages',\n",
       " '/Users/gyoungwon-cho/dev/github/course_aws/sns/slack/layer']"
      ]
     },
     "execution_count": 2,
     "metadata": {},
     "output_type": "execute_result"
    }
   ],
   "source": [
    "sys.path"
   ]
  },
  {
   "cell_type": "code",
   "execution_count": 3,
   "metadata": {},
   "outputs": [],
   "source": [
    "from common.sns_slack import slack_alarm\n",
    "from common.constant import SLACK_CHANNELS, SERVICE_TYPE"
   ]
  },
  {
   "cell_type": "code",
   "execution_count": 4,
   "metadata": {},
   "outputs": [
    {
     "data": {
      "text/plain": [
       "True"
      ]
     },
     "execution_count": 4,
     "metadata": {},
     "output_type": "execute_result"
    }
   ],
   "source": [
    "\"TEST\" in SERVICE_TYPE.__members__"
   ]
  },
  {
   "cell_type": "code",
   "execution_count": 5,
   "metadata": {},
   "outputs": [],
   "source": [
    "sns = slack_alarm(SLACK_CHANNELS.ALARM)"
   ]
  },
  {
   "cell_type": "code",
   "execution_count": 6,
   "metadata": {},
   "outputs": [
    {
     "name": "stderr",
     "output_type": "stream",
     "text": [
      "ERROR:root:[slack_alarm][send_service_message] error of p_service_type\n"
     ]
    }
   ],
   "source": [
    "sns.send_service_message(\"test\")"
   ]
  },
  {
   "cell_type": "code",
   "execution_count": 7,
   "metadata": {},
   "outputs": [
    {
     "data": {
      "text/plain": [
       "'1733278492.235109'"
      ]
     },
     "execution_count": 7,
     "metadata": {},
     "output_type": "execute_result"
    }
   ],
   "source": [
    "sns.send_service_message(SERVICE_TYPE.DEV)"
   ]
  },
  {
   "cell_type": "code",
   "execution_count": 9,
   "metadata": {},
   "outputs": [
    {
     "data": {
      "text/plain": [
       "'tttt'"
      ]
     },
     "execution_count": 9,
     "metadata": {},
     "output_type": "execute_result"
    }
   ],
   "source": [
    "event = {\n",
    "  'aaa':'bbb'\n",
    "}\n",
    "\n",
    "event.get('aaccc', 'tttt')"
   ]
  },
  {
   "cell_type": "code",
   "execution_count": null,
   "metadata": {},
   "outputs": [],
   "source": []
  }
 ],
 "metadata": {
  "kernelspec": {
   "display_name": "web-venv",
   "language": "python",
   "name": "python3"
  },
  "language_info": {
   "codemirror_mode": {
    "name": "ipython",
    "version": 3
   },
   "file_extension": ".py",
   "mimetype": "text/x-python",
   "name": "python",
   "nbconvert_exporter": "python",
   "pygments_lexer": "ipython3",
   "version": "3.11.3"
  }
 },
 "nbformat": 4,
 "nbformat_minor": 2
}
