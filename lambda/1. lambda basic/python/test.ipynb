{
 "cells": [
  {
   "cell_type": "code",
   "execution_count": 1,
   "id": "72af2fc5",
   "metadata": {},
   "outputs": [],
   "source": [
    "from common.aws_s3 import mk_path_json_of_s3, upload_json_to_s3, download_json_from_s3"
   ]
  },
  {
   "cell_type": "code",
   "execution_count": 2,
   "id": "7e720b62",
   "metadata": {},
   "outputs": [
    {
     "data": {
      "text/plain": [
       "'year=2025/month=4/day=14/hour=15/minute=10/test-504234.json'"
      ]
     },
     "execution_count": 2,
     "metadata": {},
     "output_type": "execute_result"
    }
   ],
   "source": [
    "path_json = mk_path_json_of_s3(\"test\")\n",
    "path_json "
   ]
  },
  {
   "cell_type": "code",
   "execution_count": 4,
   "id": "5b71cb21",
   "metadata": {},
   "outputs": [],
   "source": [
    "data = {\"key\": \"value\"}\n",
    "\n",
    "upload_json_to_s3(data=data, bucket=\"lambda-good593\", path=path_json)"
   ]
  },
  {
   "cell_type": "code",
   "execution_count": 5,
   "id": "15749ffb",
   "metadata": {},
   "outputs": [
    {
     "data": {
      "text/plain": [
       "{'key': 'value'}"
      ]
     },
     "execution_count": 5,
     "metadata": {},
     "output_type": "execute_result"
    }
   ],
   "source": [
    "data = download_json_from_s3(bucket=\"lambda-good593\", path=path_json)\n",
    "\n",
    "data"
   ]
  },
  {
   "cell_type": "code",
   "execution_count": null,
   "id": "149084a5",
   "metadata": {},
   "outputs": [],
   "source": []
  }
 ],
 "metadata": {
  "kernelspec": {
   "display_name": ".venv",
   "language": "python",
   "name": "python3"
  },
  "language_info": {
   "codemirror_mode": {
    "name": "ipython",
    "version": 3
   },
   "file_extension": ".py",
   "mimetype": "text/x-python",
   "name": "python",
   "nbconvert_exporter": "python",
   "pygments_lexer": "ipython3",
   "version": "3.13.2"
  }
 },
 "nbformat": 4,
 "nbformat_minor": 5
}
